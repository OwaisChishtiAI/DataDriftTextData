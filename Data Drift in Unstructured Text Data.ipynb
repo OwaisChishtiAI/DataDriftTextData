{
 "cells": [
  {
   "cell_type": "markdown",
   "id": "a06c0d24-a3d6-4b3d-b0d7-438e4b365c03",
   "metadata": {},
   "source": [
    "# Finding Data Drift in Unstrucutred Text Data using HuggingFace Sentence Transformer"
   ]
  },
  {
   "cell_type": "markdown",
   "id": "db5f18d3-62af-4a92-b1f5-9c4a163da1aa",
   "metadata": {},
   "source": [
    "### Here we will find sentence embeddings vector for each baseline data point through sentence transformer and find Cosine Similarity each data point to find average of similarities, then we will introduce new data point from Pub Med dataset and find its cosine similarity with baseline dataset, and how averagely it is aparted from baseline to check drift in new data."
   ]
  },
  {
   "cell_type": "code",
   "execution_count": 1,
   "id": "811b74a7-44b7-45ec-a694-dbab3b542653",
   "metadata": {},
   "outputs": [],
   "source": [
    "import pandas as pd\n",
    "import numpy as np\n",
    "import pickle\n",
    "import ast\n",
    "\n",
    "from sentence_transformers import SentenceTransformer\n",
    "from sentence_transformers.util import cos_sim"
   ]
  },
  {
   "cell_type": "code",
   "execution_count": 2,
   "id": "2229568d-1ba0-48e0-b0e6-fcb8a3977cad",
   "metadata": {},
   "outputs": [],
   "source": [
    "model = SentenceTransformer(r\"sentence-transformers/paraphrase-MiniLM-L6-v2\")"
   ]
  },
  {
   "cell_type": "markdown",
   "id": "37e4bfcd-5294-460f-9b91-2ff93f2fa22a",
   "metadata": {},
   "source": [
    "### Note Unzipping of dataset files are done already with separtae code"
   ]
  },
  {
   "cell_type": "code",
   "execution_count": 3,
   "id": "4943808c-c1bc-432a-87b5-15eb58367271",
   "metadata": {},
   "outputs": [
    {
     "data": {
      "text/html": [
       "<div>\n",
       "<style scoped>\n",
       "    .dataframe tbody tr th:only-of-type {\n",
       "        vertical-align: middle;\n",
       "    }\n",
       "\n",
       "    .dataframe tbody tr th {\n",
       "        vertical-align: top;\n",
       "    }\n",
       "\n",
       "    .dataframe thead th {\n",
       "        text-align: right;\n",
       "    }\n",
       "</style>\n",
       "<table border=\"1\" class=\"dataframe\">\n",
       "  <thead>\n",
       "    <tr style=\"text-align: right;\">\n",
       "      <th></th>\n",
       "      <th>Unnamed: 0</th>\n",
       "      <th>deep_learning</th>\n",
       "      <th>covid_19</th>\n",
       "      <th>human_connectome</th>\n",
       "      <th>virtual_reality</th>\n",
       "      <th>brain_machine_interfaces</th>\n",
       "      <th>electroactive_polymers</th>\n",
       "      <th>pedot_electrodes</th>\n",
       "      <th>neuroprosthetics</th>\n",
       "      <th>deep_learning_links</th>\n",
       "      <th>covid_19_links</th>\n",
       "      <th>human_connectome_links</th>\n",
       "      <th>virtual_reality_links</th>\n",
       "      <th>brain_machine_interfaces_links</th>\n",
       "      <th>electroactive_polymers_links</th>\n",
       "      <th>pedot_electrodes_links</th>\n",
       "      <th>neuroprosthetics_links</th>\n",
       "    </tr>\n",
       "  </thead>\n",
       "  <tbody>\n",
       "    <tr>\n",
       "      <th>0</th>\n",
       "      <td>0</td>\n",
       "      <td>(['Magnetic resonance spectroscopic imaging (M...</td>\n",
       "      <td>(['As cancer researchers shutter their labs to...</td>\n",
       "      <td>(['For decades, it has been largely unknown to...</td>\n",
       "      <td>(['To evaluate the differences between walking...</td>\n",
       "      <td>(['All neural information systems (NIS) rely o...</td>\n",
       "      <td>(['A mediatorless glucose biosensor was develo...</td>\n",
       "      <td>(['In the growing field of brain-machine inter...</td>\n",
       "      <td>(['The heart continuously and cyclically commu...</td>\n",
       "      <td>https://www.ncbi.nlm.nih.gov/pubmed/31352337</td>\n",
       "      <td>https://www.ncbi.nlm.nih.gov/pubmed/32234716</td>\n",
       "      <td>https://www.ncbi.nlm.nih.gov/pubmed/25420254</td>\n",
       "      <td>https://www.ncbi.nlm.nih.gov/pubmed/30653920</td>\n",
       "      <td>https://www.ncbi.nlm.nih.gov/pubmed/27669264</td>\n",
       "      <td>https://www.ncbi.nlm.nih.gov/pubmed/22967516</td>\n",
       "      <td>https://www.ncbi.nlm.nih.gov/pubmed/28266832</td>\n",
       "      <td>https://www.ncbi.nlm.nih.gov/pubmed/31051293</td>\n",
       "    </tr>\n",
       "    <tr>\n",
       "      <th>1</th>\n",
       "      <td>1</td>\n",
       "      <td>(['Existing deep convolutional neural networks...</td>\n",
       "      <td>(['In December 2019, the outbreak of pneumonia...</td>\n",
       "      <td>(['While resting-state functional magnetic res...</td>\n",
       "      <td>(['Potentially painful invasive procedures are...</td>\n",
       "      <td>(['Independent component analysis (ICA) as a p...</td>\n",
       "      <td>(['Hierarchical structures of hybrid materials...</td>\n",
       "      <td>(['High-performance transparent and flexible t...</td>\n",
       "      <td>(['This study was aimed at investigating the i...</td>\n",
       "      <td>https://www.ncbi.nlm.nih.gov/pubmed/31329133</td>\n",
       "      <td>https://www.ncbi.nlm.nih.gov/pubmed/32235387</td>\n",
       "      <td>https://www.ncbi.nlm.nih.gov/pubmed/25589760</td>\n",
       "      <td>https://www.ncbi.nlm.nih.gov/pubmed/30679136</td>\n",
       "      <td>https://www.ncbi.nlm.nih.gov/pubmed/27631789</td>\n",
       "      <td>https://www.ncbi.nlm.nih.gov/pubmed/23545560</td>\n",
       "      <td>https://www.ncbi.nlm.nih.gov/pubmed/28937733</td>\n",
       "      <td>https://www.ncbi.nlm.nih.gov/pubmed/30655080</td>\n",
       "    </tr>\n",
       "    <tr>\n",
       "      <th>2</th>\n",
       "      <td>2</td>\n",
       "      <td>(['Deep learning techniques have been increasi...</td>\n",
       "      <td>([], 'Treating COVID-19 with Chloroquine.')</td>\n",
       "      <td>(['This paper presents the experimental evalua...</td>\n",
       "      <td>([\"Early exposure to radiological cross-sectio...</td>\n",
       "      <td>([], 'Brain-machine interfaces: assistive, tho...</td>\n",
       "      <td>(['An analytical method was researched for the...</td>\n",
       "      <td>(['In this investigation, we employed a novel ...</td>\n",
       "      <td>(['Low-intensity focused ultrasound stimulatio...</td>\n",
       "      <td>https://www.ncbi.nlm.nih.gov/pubmed/31329567</td>\n",
       "      <td>https://www.ncbi.nlm.nih.gov/pubmed/32236562</td>\n",
       "      <td>https://www.ncbi.nlm.nih.gov/pubmed/25624185</td>\n",
       "      <td>https://www.ncbi.nlm.nih.gov/pubmed/30697948</td>\n",
       "      <td>https://www.ncbi.nlm.nih.gov/pubmed/27654684</td>\n",
       "      <td>https://www.ncbi.nlm.nih.gov/pubmed/22265536</td>\n",
       "      <td>https://www.ncbi.nlm.nih.gov/pubmed/28825302</td>\n",
       "      <td>https://www.ncbi.nlm.nih.gov/pubmed/30952150</td>\n",
       "    </tr>\n",
       "    <tr>\n",
       "      <th>3</th>\n",
       "      <td>3</td>\n",
       "      <td>(['The original article unfortunately containe...</td>\n",
       "      <td>(['18 years ago, in 2002, the world was astoni...</td>\n",
       "      <td>([], \"For Microscopy special issue on 'connect...</td>\n",
       "      <td>(['To investigate the effects of various rehab...</td>\n",
       "      <td>(['While motor-imagery based brain-computer in...</td>\n",
       "      <td>(['The antibacterial properties of a nanocompo...</td>\n",
       "      <td>(['Great progress has been made on the cyclabi...</td>\n",
       "      <td>(['Our brain has developed a specific system t...</td>\n",
       "      <td>https://www.ncbi.nlm.nih.gov/pubmed/31350607</td>\n",
       "      <td>https://www.ncbi.nlm.nih.gov/pubmed/32235085</td>\n",
       "      <td>https://www.ncbi.nlm.nih.gov/pubmed/25652424</td>\n",
       "      <td>https://www.ncbi.nlm.nih.gov/pubmed/30686327</td>\n",
       "      <td>https://www.ncbi.nlm.nih.gov/pubmed/27578310</td>\n",
       "      <td>https://www.ncbi.nlm.nih.gov/pubmed/22091864</td>\n",
       "      <td>https://www.ncbi.nlm.nih.gov/pubmed/28306233</td>\n",
       "      <td>https://www.ncbi.nlm.nih.gov/pubmed/30685486</td>\n",
       "    </tr>\n",
       "    <tr>\n",
       "      <th>4</th>\n",
       "      <td>4</td>\n",
       "      <td>(['The most common applications of artificial ...</td>\n",
       "      <td>([], 'Covid-19: Doctors still at \"considerable...</td>\n",
       "      <td>(['A central feature of theories of spatial na...</td>\n",
       "      <td>(['Virtual reality (VR) is a technology that a...</td>\n",
       "      <td>(['The disorders of consciousness refer to cli...</td>\n",
       "      <td>(['The metal-mediated self-assembly of coordin...</td>\n",
       "      <td>(['With the aim of a reliable biosensing exhib...</td>\n",
       "      <td>([\"Electrophysiological techniques have improv...</td>\n",
       "      <td>https://www.ncbi.nlm.nih.gov/pubmed/31348869</td>\n",
       "      <td>https://www.ncbi.nlm.nih.gov/pubmed/32234713</td>\n",
       "      <td>https://www.ncbi.nlm.nih.gov/pubmed/25601828</td>\n",
       "      <td>https://www.ncbi.nlm.nih.gov/pubmed/30668519</td>\n",
       "      <td>https://www.ncbi.nlm.nih.gov/pubmed/27590972</td>\n",
       "      <td>https://www.ncbi.nlm.nih.gov/pubmed/22624584</td>\n",
       "      <td>https://www.ncbi.nlm.nih.gov/pubmed/29201623</td>\n",
       "      <td>https://www.ncbi.nlm.nih.gov/pubmed/30564810</td>\n",
       "    </tr>\n",
       "  </tbody>\n",
       "</table>\n",
       "</div>"
      ],
      "text/plain": [
       "   Unnamed: 0                                      deep_learning  \\\n",
       "0           0  (['Magnetic resonance spectroscopic imaging (M...   \n",
       "1           1  (['Existing deep convolutional neural networks...   \n",
       "2           2  (['Deep learning techniques have been increasi...   \n",
       "3           3  (['The original article unfortunately containe...   \n",
       "4           4  (['The most common applications of artificial ...   \n",
       "\n",
       "                                            covid_19  \\\n",
       "0  (['As cancer researchers shutter their labs to...   \n",
       "1  (['In December 2019, the outbreak of pneumonia...   \n",
       "2        ([], 'Treating COVID-19 with Chloroquine.')   \n",
       "3  (['18 years ago, in 2002, the world was astoni...   \n",
       "4  ([], 'Covid-19: Doctors still at \"considerable...   \n",
       "\n",
       "                                    human_connectome  \\\n",
       "0  (['For decades, it has been largely unknown to...   \n",
       "1  (['While resting-state functional magnetic res...   \n",
       "2  (['This paper presents the experimental evalua...   \n",
       "3  ([], \"For Microscopy special issue on 'connect...   \n",
       "4  (['A central feature of theories of spatial na...   \n",
       "\n",
       "                                     virtual_reality  \\\n",
       "0  (['To evaluate the differences between walking...   \n",
       "1  (['Potentially painful invasive procedures are...   \n",
       "2  ([\"Early exposure to radiological cross-sectio...   \n",
       "3  (['To investigate the effects of various rehab...   \n",
       "4  (['Virtual reality (VR) is a technology that a...   \n",
       "\n",
       "                            brain_machine_interfaces  \\\n",
       "0  (['All neural information systems (NIS) rely o...   \n",
       "1  (['Independent component analysis (ICA) as a p...   \n",
       "2  ([], 'Brain-machine interfaces: assistive, tho...   \n",
       "3  (['While motor-imagery based brain-computer in...   \n",
       "4  (['The disorders of consciousness refer to cli...   \n",
       "\n",
       "                              electroactive_polymers  \\\n",
       "0  (['A mediatorless glucose biosensor was develo...   \n",
       "1  (['Hierarchical structures of hybrid materials...   \n",
       "2  (['An analytical method was researched for the...   \n",
       "3  (['The antibacterial properties of a nanocompo...   \n",
       "4  (['The metal-mediated self-assembly of coordin...   \n",
       "\n",
       "                                    pedot_electrodes  \\\n",
       "0  (['In the growing field of brain-machine inter...   \n",
       "1  (['High-performance transparent and flexible t...   \n",
       "2  (['In this investigation, we employed a novel ...   \n",
       "3  (['Great progress has been made on the cyclabi...   \n",
       "4  (['With the aim of a reliable biosensing exhib...   \n",
       "\n",
       "                                    neuroprosthetics  \\\n",
       "0  (['The heart continuously and cyclically commu...   \n",
       "1  (['This study was aimed at investigating the i...   \n",
       "2  (['Low-intensity focused ultrasound stimulatio...   \n",
       "3  (['Our brain has developed a specific system t...   \n",
       "4  ([\"Electrophysiological techniques have improv...   \n",
       "\n",
       "                            deep_learning_links  \\\n",
       "0  https://www.ncbi.nlm.nih.gov/pubmed/31352337   \n",
       "1  https://www.ncbi.nlm.nih.gov/pubmed/31329133   \n",
       "2  https://www.ncbi.nlm.nih.gov/pubmed/31329567   \n",
       "3  https://www.ncbi.nlm.nih.gov/pubmed/31350607   \n",
       "4  https://www.ncbi.nlm.nih.gov/pubmed/31348869   \n",
       "\n",
       "                                 covid_19_links  \\\n",
       "0  https://www.ncbi.nlm.nih.gov/pubmed/32234716   \n",
       "1  https://www.ncbi.nlm.nih.gov/pubmed/32235387   \n",
       "2  https://www.ncbi.nlm.nih.gov/pubmed/32236562   \n",
       "3  https://www.ncbi.nlm.nih.gov/pubmed/32235085   \n",
       "4  https://www.ncbi.nlm.nih.gov/pubmed/32234713   \n",
       "\n",
       "                         human_connectome_links  \\\n",
       "0  https://www.ncbi.nlm.nih.gov/pubmed/25420254   \n",
       "1  https://www.ncbi.nlm.nih.gov/pubmed/25589760   \n",
       "2  https://www.ncbi.nlm.nih.gov/pubmed/25624185   \n",
       "3  https://www.ncbi.nlm.nih.gov/pubmed/25652424   \n",
       "4  https://www.ncbi.nlm.nih.gov/pubmed/25601828   \n",
       "\n",
       "                          virtual_reality_links  \\\n",
       "0  https://www.ncbi.nlm.nih.gov/pubmed/30653920   \n",
       "1  https://www.ncbi.nlm.nih.gov/pubmed/30679136   \n",
       "2  https://www.ncbi.nlm.nih.gov/pubmed/30697948   \n",
       "3  https://www.ncbi.nlm.nih.gov/pubmed/30686327   \n",
       "4  https://www.ncbi.nlm.nih.gov/pubmed/30668519   \n",
       "\n",
       "                 brain_machine_interfaces_links  \\\n",
       "0  https://www.ncbi.nlm.nih.gov/pubmed/27669264   \n",
       "1  https://www.ncbi.nlm.nih.gov/pubmed/27631789   \n",
       "2  https://www.ncbi.nlm.nih.gov/pubmed/27654684   \n",
       "3  https://www.ncbi.nlm.nih.gov/pubmed/27578310   \n",
       "4  https://www.ncbi.nlm.nih.gov/pubmed/27590972   \n",
       "\n",
       "                   electroactive_polymers_links  \\\n",
       "0  https://www.ncbi.nlm.nih.gov/pubmed/22967516   \n",
       "1  https://www.ncbi.nlm.nih.gov/pubmed/23545560   \n",
       "2  https://www.ncbi.nlm.nih.gov/pubmed/22265536   \n",
       "3  https://www.ncbi.nlm.nih.gov/pubmed/22091864   \n",
       "4  https://www.ncbi.nlm.nih.gov/pubmed/22624584   \n",
       "\n",
       "                         pedot_electrodes_links  \\\n",
       "0  https://www.ncbi.nlm.nih.gov/pubmed/28266832   \n",
       "1  https://www.ncbi.nlm.nih.gov/pubmed/28937733   \n",
       "2  https://www.ncbi.nlm.nih.gov/pubmed/28825302   \n",
       "3  https://www.ncbi.nlm.nih.gov/pubmed/28306233   \n",
       "4  https://www.ncbi.nlm.nih.gov/pubmed/29201623   \n",
       "\n",
       "                         neuroprosthetics_links  \n",
       "0  https://www.ncbi.nlm.nih.gov/pubmed/31051293  \n",
       "1  https://www.ncbi.nlm.nih.gov/pubmed/30655080  \n",
       "2  https://www.ncbi.nlm.nih.gov/pubmed/30952150  \n",
       "3  https://www.ncbi.nlm.nih.gov/pubmed/30685486  \n",
       "4  https://www.ncbi.nlm.nih.gov/pubmed/30564810  "
      ]
     },
     "execution_count": 3,
     "metadata": {},
     "output_type": "execute_result"
    }
   ],
   "source": [
    "# importing Baseline Dataset\n",
    "df = pd.read_csv(\"pubmed_abstracts.csv\") # and particularly focusing on covid_19 column data\n",
    "df.head()"
   ]
  },
  {
   "cell_type": "code",
   "execution_count": 4,
   "id": "644c119d-f21d-45c4-9d86-7cfd42b71a70",
   "metadata": {},
   "outputs": [],
   "source": [
    "def parse_text(x):\n",
    "    return ast.literal_eval(x)\n",
    "\n",
    "sents = []\n",
    "not_none_df = df['covid_19'][df['covid_19'].notna()]\n",
    "for sent in not_none_df:\n",
    "    y = parse_text(sent)\n",
    "    if y[0] != []:\n",
    "        sents.append(y[0][0])"
   ]
  },
  {
   "cell_type": "code",
   "execution_count": 5,
   "id": "e5abb89e-735b-4135-9d73-917053d4550d",
   "metadata": {},
   "outputs": [
    {
     "data": {
      "text/plain": [
       "['As cancer researchers shutter their labs to comply with COVID-19-related work restrictions, some are turning their attention, resources, and technical know-how to the challenge of tackling the deadly coronavirus.',\n",
       " 'In December 2019, the outbreak of pneumonia caused by a novel coronavirus, severe acute respiratory syndrome coronavirus 2 (SARS-CoV-2), has led to a serious pandemic in China and other countries worldwide. So far, more than 460,000 confirmed cases were diagnosed in nearly 190 countries, causing globally over 20,000 deaths. Currently, the epidemic is still spreading and there is no effective means to prevent the infection. Vaccines are proved to be the most effective and economical means to prevent and control infectious diseases. Several countries, companies, and institutions announced their programs and progress on vaccine development against the virus. While most of the vaccines are under design and preparation, there are some that have entered efficacy evaluation in animals and initial clinical trials. This review mainly focused on the progress and our prospects on field of vaccine development against SARS-CoV-2.',\n",
       " '18 years ago, in 2002, the world was astonished by the appearance of Severe Acute Respiratory Syndrome (SARS), supported by a zoonotic coronavirus, called SARS-CoV, from the Guangdong Province of southern China. After about 10 years, in 2012, another similar coronavirus triggered the Middle East Respiratory Syndrome (MERS-CoV) in Saudi Arabia. Both caused severe pneumonia killing 774 and 858 people with 8700 cases of confirmed infection for the former, and 2494 for the latter, causing significant economic losses. 8 years later, despite the MERS outbreak remaining in certain parts of the world, at the end of 2019, a new zoonotic coronavirus (SARS-CoV-2) and responsible of coronavirus Disease (COVID-19), arose from Wuhan, Hubei Province, China. It spread rapidly and to date has killed 3,242 persons with more than 81,000 cases of infection in China and causing over 126,000 global cases and 5,414 deaths in 166 other countries around the world, especially Italy. SARS-CoV-2 would seem to have come from a bat, but the intermediate reservoir continues to be unknown. Nonetheless, as for SARS-CoV and MERS CoV, the Spillover effect linked to animal-human promiscuity, human activities including deforestation, illegal bush-trafficking and bushmeat, cannot be excluded. Recently, however, evidence of inter-human only transmission of SARS-CoV-2 has been accumulated and thus, the outbreak seems to be spreading by human-to-human transmission throughout a large part of the world. Herein we will provide with an update on the main features of COVID-19 and suggest possible solutions how to halt the expansion of this novel pandemic.',\n",
       " 'To analyze the most common computed tomography (CT) findings of pneumonia caused by new coronavirus in younger patients (60 and younger) and older adults (older than 60).',\n",
       " 'With the current COVID-19 pandemic, concerns have been raised about the risk to children with inflammatory bowel diseases (IBD). We aimed to collate global experience and provide provisional guidance for managing paediatric IBD (PIBD) in the era of COVID-19.',\n",
       " 'The worldwide outbreak of coronavirus disease 2019 (COVID-19) raises concerns of widespread panic and anxiety in individuals subjected to the real or perceived threat of the virus. Compared to general populations, patients who are institutionalized in a closed unit are also very vulnerable to COVID-19 infection and complications. This crisis touched on difficult issues of not only psychiatric care and ethics, but also psychological impacts to psychiatric care givers. In this Viewpoint, we address both physical and biopsychosocial aspects of this infection, as well as the psychoneuroimmunity of preventive strategies of healthy lifestyle, regular exercise, balanced nutrition, quality sleep and a strong connection with people. Social distancing and wearing masks might help us from pathogen exposure, yet such these measures also prevent us from expressing compassion and friendliness. Therefore, all forms of psychological support should be routinely implemented not only to consider psychological resilience but also to enhance psychoneuroimmunity against COVID-19.',\n",
       " 'Ongoing outbreak of pneumonia caused by novel coronavirus (2019-nCoV) began in December 2019 in Wuhan, China, and the number of new patients continues to increase. Even though it began to spread to many other parts of the world, such as other Asian countries, the Americas, Europe, and the Middle East, the impact of secondary outbreaks caused by exported cases outside China remains unclear. We conducted simulations to estimate the impact of potential secondary outbreaks in a community outside China. Simulations using stochastic SEIR model were conducted, assuming one patient was imported to a community. Among 45 possible scenarios we prepared, the worst scenario resulted in the total number of persons recovered or removed to be 997 (95% CrI 990-1000) at day 100 and a maximum number of symptomatic infectious patients per day of 335 (95% CrI 232-478). Calculated mean basic reproductive number (R0) was 6.5 (Interquartile range, IQR 5.6-7.2). However, better case scenarios with different parameters led to no secondary cases. Altering parameters, especially time to hospital visit. could change the impact of a secondary outbreak. With these multiple scenarios with different parameters, healthcare professionals might be able to better prepare for this viral infection.',\n",
       " \"The ongoing outbreak of the novel coronavirus disease (COVID-19) that occurred in China is rapidly spreading globally. China's bond and strict containment measures have been proved (in practice) to significantly reduce the spread of the epidemic. This was obtained through the use of emergency control measures in the epidemic areas and the integration of resources from multiple systems, including business, community, technology, education, and transportation, across the country. In order to better understand how China has managed to reduce the public health and economic impacts of the COVID-19 epidemic, this editorial systematically reviews the specific measures for infection prevention and control of the disease. The best practices for COVID-19 eradication in China provide evidence-based strategies that could be replicated in other countries.\",\n",
       " 'In February 2020, a Chinese cargo ship docked at the Port of Santos with reports of crew members with a feverish and respiratory condition. A team was gathered to verify the existence of suspected cases of COVID-19 inside the vessel and define its clearance. All 25 crew members were interviewed, and no suspected cases were found. The vessel was then cleared for port activities. The investigation resulted from the implementation of the contingency plan to face a public health emergency of international importance and several surveillance entities cooperated.']"
      ]
     },
     "execution_count": 5,
     "metadata": {},
     "output_type": "execute_result"
    }
   ],
   "source": [
    "# Getting sample data and removing some of chinese examples\n",
    "sample_med_sents = sents[:10]\n",
    "sample_med_sents.pop(7)\n",
    "sample_med_sents"
   ]
  },
  {
   "cell_type": "code",
   "execution_count": 6,
   "id": "dd606601-d400-4ed7-9ef0-c8a458978b8a",
   "metadata": {},
   "outputs": [],
   "source": [
    "# Finding vector representations for each sentence\n",
    "med_embeddings = []\n",
    "for text in sample_med_sents:\n",
    "    med_embeddings.append(model.encode(text))"
   ]
  },
  {
   "cell_type": "code",
   "execution_count": 7,
   "id": "d97ecace-d77f-427c-91ca-97483bb3b0bb",
   "metadata": {},
   "outputs": [],
   "source": [
    "with open(\"med_sample_embeddings.pkl\", \"wb\") as fp:   #Pickling\n",
    "    pickle.dump(med_embeddings, fp)"
   ]
  },
  {
   "cell_type": "code",
   "execution_count": 12,
   "id": "0363a784-0ef8-41c6-b48b-6dfb20f3fd8b",
   "metadata": {},
   "outputs": [
    {
     "data": {
      "text/html": [
       "<div>\n",
       "<style scoped>\n",
       "    .dataframe tbody tr th:only-of-type {\n",
       "        vertical-align: middle;\n",
       "    }\n",
       "\n",
       "    .dataframe tbody tr th {\n",
       "        vertical-align: top;\n",
       "    }\n",
       "\n",
       "    .dataframe thead th {\n",
       "        text-align: right;\n",
       "    }\n",
       "</style>\n",
       "<table border=\"1\" class=\"dataframe\">\n",
       "  <thead>\n",
       "    <tr style=\"text-align: right;\">\n",
       "      <th></th>\n",
       "      <th>0</th>\n",
       "      <th>1</th>\n",
       "      <th>2</th>\n",
       "      <th>3</th>\n",
       "    </tr>\n",
       "  </thead>\n",
       "  <tbody>\n",
       "    <tr>\n",
       "      <th>0</th>\n",
       "      <td>gj04</td>\n",
       "      <td>1</td>\n",
       "      <td>NaN</td>\n",
       "      <td>Our friends won't buy this analysis, let alone...</td>\n",
       "    </tr>\n",
       "    <tr>\n",
       "      <th>1</th>\n",
       "      <td>gj04</td>\n",
       "      <td>1</td>\n",
       "      <td>NaN</td>\n",
       "      <td>One more pseudo generalization and I'm giving up.</td>\n",
       "    </tr>\n",
       "    <tr>\n",
       "      <th>2</th>\n",
       "      <td>gj04</td>\n",
       "      <td>1</td>\n",
       "      <td>NaN</td>\n",
       "      <td>One more pseudo generalization or I'm giving up.</td>\n",
       "    </tr>\n",
       "    <tr>\n",
       "      <th>3</th>\n",
       "      <td>gj04</td>\n",
       "      <td>1</td>\n",
       "      <td>NaN</td>\n",
       "      <td>The more we study verbs, the crazier they get.</td>\n",
       "    </tr>\n",
       "    <tr>\n",
       "      <th>4</th>\n",
       "      <td>gj04</td>\n",
       "      <td>1</td>\n",
       "      <td>NaN</td>\n",
       "      <td>Day by day the facts are getting murkier.</td>\n",
       "    </tr>\n",
       "  </tbody>\n",
       "</table>\n",
       "</div>"
      ],
      "text/plain": [
       "      0  1    2                                                  3\n",
       "0  gj04  1  NaN  Our friends won't buy this analysis, let alone...\n",
       "1  gj04  1  NaN  One more pseudo generalization and I'm giving up.\n",
       "2  gj04  1  NaN   One more pseudo generalization or I'm giving up.\n",
       "3  gj04  1  NaN     The more we study verbs, the crazier they get.\n",
       "4  gj04  1  NaN          Day by day the facts are getting murkier."
      ]
     },
     "execution_count": 12,
     "metadata": {},
     "output_type": "execute_result"
    }
   ],
   "source": [
    "# Getting ColA dataset for new set of points\n",
    "df = pd.read_csv(\"cola_public/raw/in_domain_train.tsv\", sep=\"\\t\", header=None)\n",
    "df.head()"
   ]
  },
  {
   "cell_type": "code",
   "execution_count": 13,
   "id": "3929cf53-ad07-4de9-a404-855681b149af",
   "metadata": {},
   "outputs": [],
   "source": [
    "df = df[3].to_list()[:10] # taking 10 examples for quick checks for new data points\n",
    "embeddings = []\n",
    "for text in df:\n",
    "    embeddings.append(model.encode(text))"
   ]
  },
  {
   "cell_type": "code",
   "execution_count": 14,
   "id": "e8d9490f-8340-403f-9c62-2616062b8d65",
   "metadata": {},
   "outputs": [],
   "source": [
    "# function to find cosine similarities\n",
    "def calc_cos_sim(vec1, vec2):\n",
    "    sim_score = cos_sim(vec1, vec2)\n",
    "    return sim_score"
   ]
  },
  {
   "cell_type": "code",
   "execution_count": 15,
   "id": "aac75278-cd81-47d1-b20e-04580fb79730",
   "metadata": {},
   "outputs": [],
   "source": [
    "# Calculating cosine similarities for baseline dataset\n",
    "scores = []\n",
    "for i in range(len(med_embeddings)):\n",
    "    for j in range(len(med_embeddings)):\n",
    "        if not (i == j):\n",
    "            y = calc_cos_sim(med_embeddings[i], med_embeddings[j])\n",
    "            scores.append(round(y.tolist()[0][0], 4))"
   ]
  },
  {
   "cell_type": "code",
   "execution_count": 16,
   "id": "f8464cc1-7b71-4cdd-bc52-0f8719e05363",
   "metadata": {
    "collapsed": true,
    "jupyter": {
     "outputs_hidden": true
    },
    "tags": []
   },
   "outputs": [
    {
     "data": {
      "text/plain": [
       "[0.4012,\n",
       " 0.34,\n",
       " 0.4053,\n",
       " 0.3746,\n",
       " 0.5438,\n",
       " 0.3505,\n",
       " 0.4403,\n",
       " 0.1719,\n",
       " 0.4012,\n",
       " 0.685,\n",
       " 0.5482,\n",
       " 0.4119,\n",
       " 0.5635,\n",
       " 0.7755,\n",
       " 0.6976,\n",
       " 0.3709,\n",
       " 0.34,\n",
       " 0.685,\n",
       " 0.4705,\n",
       " 0.2618,\n",
       " 0.5281,\n",
       " 0.6645,\n",
       " 0.5861,\n",
       " 0.4317,\n",
       " 0.4053,\n",
       " 0.5482,\n",
       " 0.4705,\n",
       " 0.3291,\n",
       " 0.4804,\n",
       " 0.4687,\n",
       " 0.3782,\n",
       " 0.2168,\n",
       " 0.3746,\n",
       " 0.4119,\n",
       " 0.2618,\n",
       " 0.3291,\n",
       " 0.5362,\n",
       " 0.3377,\n",
       " 0.3906,\n",
       " 0.2518,\n",
       " 0.5438,\n",
       " 0.5635,\n",
       " 0.5281,\n",
       " 0.4804,\n",
       " 0.5362,\n",
       " 0.5585,\n",
       " 0.6073,\n",
       " 0.3581,\n",
       " 0.3505,\n",
       " 0.7755,\n",
       " 0.6645,\n",
       " 0.4687,\n",
       " 0.3377,\n",
       " 0.5585,\n",
       " 0.7224,\n",
       " 0.455,\n",
       " 0.4403,\n",
       " 0.6976,\n",
       " 0.5861,\n",
       " 0.3782,\n",
       " 0.3906,\n",
       " 0.6073,\n",
       " 0.7224,\n",
       " 0.4793,\n",
       " 0.1719,\n",
       " 0.3709,\n",
       " 0.4317,\n",
       " 0.2168,\n",
       " 0.2518,\n",
       " 0.3581,\n",
       " 0.455,\n",
       " 0.4793]"
      ]
     },
     "execution_count": 16,
     "metadata": {},
     "output_type": "execute_result"
    }
   ],
   "source": [
    "scores"
   ]
  },
  {
   "cell_type": "code",
   "execution_count": 18,
   "id": "366295cf-dfd9-4d34-ba4a-d0e4dc50a6f0",
   "metadata": {},
   "outputs": [
    {
     "data": {
      "text/plain": [
       "0.4609166666666665"
      ]
     },
     "execution_count": 18,
     "metadata": {},
     "output_type": "execute_result"
    }
   ],
   "source": [
    "avg_score_baseline = sum(scores) / len(scores)\n",
    "avg_score_baseline"
   ]
  },
  {
   "cell_type": "code",
   "execution_count": 24,
   "id": "d625cfd6-c631-47d8-9caf-2e632fd9f1df",
   "metadata": {},
   "outputs": [
    {
     "name": "stdout",
     "output_type": "stream",
     "text": [
      "0.4609166666666665\n"
     ]
    }
   ],
   "source": [
    "# lets save this score to evaluate new points based on this average score\n",
    "def check_distance(new_score):\n",
    "    global avg_score_baseline\n",
    "    score_diff = avg_score_baseline - new_score\n",
    "    \n",
    "\n",
    "#check_distance(1)"
   ]
  },
  {
   "cell_type": "code",
   "execution_count": 25,
   "id": "8ac1dc19-eb6d-4845-a130-aebc8f6f5ed1",
   "metadata": {},
   "outputs": [
    {
     "data": {
      "text/plain": [
       "0.0897111111111111"
      ]
     },
     "execution_count": 25,
     "metadata": {},
     "output_type": "execute_result"
    }
   ],
   "source": [
    "# Calculating cosine similarity of new data point with baseline data points\n",
    "new_scores = []\n",
    "for each in med_embeddings:\n",
    "    y_new = calc_cos_sim(each, embeddings[0])\n",
    "    y_new = round(y_new.tolist()[0][0], 4)\n",
    "    new_scores.append(y_new)\n",
    "    \n",
    "new_datapoint_avg_score = sum(new_scores) / len(new_scores)\n",
    "new_datapoint_avg_score"
   ]
  },
  {
   "cell_type": "code",
   "execution_count": 26,
   "id": "578e283f-ffc6-4d4e-a96f-1cd59065534c",
   "metadata": {},
   "outputs": [
    {
     "data": {
      "text/plain": [
       "0.040188888888888885"
      ]
     },
     "execution_count": 26,
     "metadata": {},
     "output_type": "execute_result"
    }
   ],
   "source": [
    "# Lets try second example\n",
    "new_scores = []\n",
    "for each in med_embeddings:\n",
    "    y_new = calc_cos_sim(each, embeddings[3])\n",
    "    y_new = round(y_new.tolist()[0][0], 4)\n",
    "    new_scores.append(y_new)\n",
    "    \n",
    "new_datapoint_avg_score = sum(new_scores) / len(new_scores)\n",
    "new_datapoint_avg_score"
   ]
  },
  {
   "cell_type": "code",
   "execution_count": null,
   "id": "ee7d9102-9bad-47a3-9023-c2b66a4897b6",
   "metadata": {},
   "outputs": [],
   "source": []
  }
 ],
 "metadata": {
  "kernelspec": {
   "display_name": "Python 3 (ipykernel)",
   "language": "python",
   "name": "python3"
  },
  "language_info": {
   "codemirror_mode": {
    "name": "ipython",
    "version": 3
   },
   "file_extension": ".py",
   "mimetype": "text/x-python",
   "name": "python",
   "nbconvert_exporter": "python",
   "pygments_lexer": "ipython3",
   "version": "3.7.15"
  }
 },
 "nbformat": 4,
 "nbformat_minor": 5
}
